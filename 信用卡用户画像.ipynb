{
 "cells": [
  {
   "cell_type": "code",
   "execution_count": 12,
   "metadata": {
    "collapsed": true
   },
   "outputs": [],
   "source": [
    "import pandas as pd\n",
    "import seaborn as sns\n",
    "import matplotlib.pyplot as plt\n",
    "import numpy as np\n",
    "import datetime\n",
    "%matplotlib inline\n",
    "plt.rcParams['font.sans-serif']=['SimHei']#将pyplot的字体改为可以支持中文的SimHei\n",
    "plt.rcParams['axes.unicode_minus']=True#是否可以显示负号"
   ]
  },
  {
   "cell_type": "code",
   "execution_count": 2,
   "metadata": {
    "collapsed": false
   },
   "outputs": [],
   "source": [
    "card=pd.read_csv('card.csv',encoding='gbk')\n",
    "clients=pd.read_csv('clients.csv',encoding='gbk')\n",
    "disp=pd.read_csv('disp.csv',encoding='gbk')"
   ]
  },
  {
   "cell_type": "code",
   "execution_count": 3,
   "metadata": {
    "collapsed": false
   },
   "outputs": [
    {
     "data": {
      "text/html": [
       "<div>\n",
       "<table border=\"1\" class=\"dataframe\">\n",
       "  <thead>\n",
       "    <tr style=\"text-align: right;\">\n",
       "      <th></th>\n",
       "      <th>card_id</th>\n",
       "      <th>disp_id</th>\n",
       "      <th>issued</th>\n",
       "      <th>type</th>\n",
       "    </tr>\n",
       "  </thead>\n",
       "  <tbody>\n",
       "    <tr>\n",
       "      <th>0</th>\n",
       "      <td>1005</td>\n",
       "      <td>9285</td>\n",
       "      <td>1993-11-07</td>\n",
       "      <td>普通卡</td>\n",
       "    </tr>\n",
       "    <tr>\n",
       "      <th>1</th>\n",
       "      <td>104</td>\n",
       "      <td>588</td>\n",
       "      <td>1994-01-19</td>\n",
       "      <td>普通卡</td>\n",
       "    </tr>\n",
       "    <tr>\n",
       "      <th>2</th>\n",
       "      <td>747</td>\n",
       "      <td>4915</td>\n",
       "      <td>1994-02-05</td>\n",
       "      <td>普通卡</td>\n",
       "    </tr>\n",
       "    <tr>\n",
       "      <th>3</th>\n",
       "      <td>70</td>\n",
       "      <td>439</td>\n",
       "      <td>1994-02-08</td>\n",
       "      <td>普通卡</td>\n",
       "    </tr>\n",
       "    <tr>\n",
       "      <th>4</th>\n",
       "      <td>577</td>\n",
       "      <td>3687</td>\n",
       "      <td>1994-02-15</td>\n",
       "      <td>普通卡</td>\n",
       "    </tr>\n",
       "  </tbody>\n",
       "</table>\n",
       "</div>"
      ],
      "text/plain": [
       "   card_id  disp_id      issued type\n",
       "0     1005     9285  1993-11-07  普通卡\n",
       "1      104      588  1994-01-19  普通卡\n",
       "2      747     4915  1994-02-05  普通卡\n",
       "3       70      439  1994-02-08  普通卡\n",
       "4      577     3687  1994-02-15  普通卡"
      ]
     },
     "execution_count": 3,
     "metadata": {},
     "output_type": "execute_result"
    }
   ],
   "source": [
    "#card_id和disp_id是一对一\n",
    "card.head()"
   ]
  },
  {
   "cell_type": "code",
   "execution_count": 4,
   "metadata": {
    "collapsed": false
   },
   "outputs": [
    {
     "data": {
      "text/html": [
       "<div>\n",
       "<table border=\"1\" class=\"dataframe\">\n",
       "  <thead>\n",
       "    <tr style=\"text-align: right;\">\n",
       "      <th></th>\n",
       "      <th>client_id</th>\n",
       "      <th>sex</th>\n",
       "      <th>birth_date</th>\n",
       "      <th>district_id</th>\n",
       "    </tr>\n",
       "  </thead>\n",
       "  <tbody>\n",
       "    <tr>\n",
       "      <th>0</th>\n",
       "      <td>1</td>\n",
       "      <td>女</td>\n",
       "      <td>1970-12-13</td>\n",
       "      <td>18</td>\n",
       "    </tr>\n",
       "    <tr>\n",
       "      <th>1</th>\n",
       "      <td>2</td>\n",
       "      <td>男</td>\n",
       "      <td>1945-02-04</td>\n",
       "      <td>1</td>\n",
       "    </tr>\n",
       "    <tr>\n",
       "      <th>2</th>\n",
       "      <td>3</td>\n",
       "      <td>女</td>\n",
       "      <td>1940-10-09</td>\n",
       "      <td>1</td>\n",
       "    </tr>\n",
       "    <tr>\n",
       "      <th>3</th>\n",
       "      <td>4</td>\n",
       "      <td>男</td>\n",
       "      <td>1956-12-01</td>\n",
       "      <td>5</td>\n",
       "    </tr>\n",
       "    <tr>\n",
       "      <th>4</th>\n",
       "      <td>5</td>\n",
       "      <td>女</td>\n",
       "      <td>1960-07-03</td>\n",
       "      <td>5</td>\n",
       "    </tr>\n",
       "  </tbody>\n",
       "</table>\n",
       "</div>"
      ],
      "text/plain": [
       "   client_id sex  birth_date  district_id\n",
       "0          1   女  1970-12-13           18\n",
       "1          2   男  1945-02-04            1\n",
       "2          3   女  1940-10-09            1\n",
       "3          4   男  1956-12-01            5\n",
       "4          5   女  1960-07-03            5"
      ]
     },
     "execution_count": 4,
     "metadata": {},
     "output_type": "execute_result"
    }
   ],
   "source": [
    "clients.head()"
   ]
  },
  {
   "cell_type": "code",
   "execution_count": 5,
   "metadata": {
    "collapsed": false
   },
   "outputs": [
    {
     "data": {
      "text/html": [
       "<div>\n",
       "<table border=\"1\" class=\"dataframe\">\n",
       "  <thead>\n",
       "    <tr style=\"text-align: right;\">\n",
       "      <th></th>\n",
       "      <th>disp_id</th>\n",
       "      <th>client_id</th>\n",
       "      <th>account_id</th>\n",
       "      <th>type</th>\n",
       "    </tr>\n",
       "  </thead>\n",
       "  <tbody>\n",
       "    <tr>\n",
       "      <th>0</th>\n",
       "      <td>1</td>\n",
       "      <td>1</td>\n",
       "      <td>1</td>\n",
       "      <td>所有者</td>\n",
       "    </tr>\n",
       "    <tr>\n",
       "      <th>1</th>\n",
       "      <td>2</td>\n",
       "      <td>2</td>\n",
       "      <td>2</td>\n",
       "      <td>所有者</td>\n",
       "    </tr>\n",
       "    <tr>\n",
       "      <th>2</th>\n",
       "      <td>3</td>\n",
       "      <td>3</td>\n",
       "      <td>2</td>\n",
       "      <td>用户</td>\n",
       "    </tr>\n",
       "    <tr>\n",
       "      <th>3</th>\n",
       "      <td>4</td>\n",
       "      <td>4</td>\n",
       "      <td>3</td>\n",
       "      <td>所有者</td>\n",
       "    </tr>\n",
       "    <tr>\n",
       "      <th>4</th>\n",
       "      <td>5</td>\n",
       "      <td>5</td>\n",
       "      <td>3</td>\n",
       "      <td>用户</td>\n",
       "    </tr>\n",
       "  </tbody>\n",
       "</table>\n",
       "</div>"
      ],
      "text/plain": [
       "   disp_id  client_id  account_id type\n",
       "0        1          1           1  所有者\n",
       "1        2          2           2  所有者\n",
       "2        3          3           2   用户\n",
       "3        4          4           3  所有者\n",
       "4        5          5           3   用户"
      ]
     },
     "execution_count": 5,
     "metadata": {},
     "output_type": "execute_result"
    }
   ],
   "source": [
    "disp.head()"
   ]
  },
  {
   "cell_type": "code",
   "execution_count": 6,
   "metadata": {
    "collapsed": false
   },
   "outputs": [],
   "source": [
    "df1=card.merge(disp,on='disp_id',how='left').merge(clients,on='client_id',how='left')"
   ]
  },
  {
   "cell_type": "code",
   "execution_count": 7,
   "metadata": {
    "collapsed": false
   },
   "outputs": [
    {
     "data": {
      "text/plain": [
       "(892, 10)"
      ]
     },
     "execution_count": 7,
     "metadata": {},
     "output_type": "execute_result"
    }
   ],
   "source": [
    "df1.shape"
   ]
  },
  {
   "cell_type": "code",
   "execution_count": 8,
   "metadata": {
    "collapsed": false
   },
   "outputs": [],
   "source": [
    "df1['issued']=pd.to_datetime(df1.issued)\n",
    "df1['birth_date']=pd.to_datetime(df1.birth_date)"
   ]
  },
  {
   "cell_type": "code",
   "execution_count": 9,
   "metadata": {
    "collapsed": false
   },
   "outputs": [
    {
     "data": {
      "text/plain": [
       "892"
      ]
     },
     "execution_count": 9,
     "metadata": {},
     "output_type": "execute_result"
    }
   ],
   "source": [
    "df1.groupby('account_id').account_id.count().count()"
   ]
  },
  {
   "cell_type": "markdown",
   "metadata": {},
   "source": [
    "## 0.总体发卡趋势&不同卡类型占比"
   ]
  },
  {
   "cell_type": "code",
   "execution_count": 15,
   "metadata": {
    "collapsed": false
   },
   "outputs": [],
   "source": [
    "df1['issued_year']=df1['issued'].map(lambda x:x.year)"
   ]
  },
  {
   "cell_type": "code",
   "execution_count": 36,
   "metadata": {
    "collapsed": false
   },
   "outputs": [
    {
     "data": {
      "text/plain": [
       "<matplotlib.axes._subplots.AxesSubplot at 0x11a21cc18>"
      ]
     },
     "execution_count": 36,
     "metadata": {},
     "output_type": "execute_result"
    },
    {
     "data": {
      "image/png": "[encoded data removed]",
      "text/plain": [
       "<matplotlib.figure.Figure at 0x1196f7d30>"
      ]
     },
     "metadata": {},
     "output_type": "display_data"
    }
   ],
   "source": [
    "df1.groupby('issued_year').disp_id.count().plot(kind='bar',title='总体发卡趋势')"
   ]
  },
  {
   "cell_type": "code",
   "execution_count": 37,
   "metadata": {
    "collapsed": false
   },
   "outputs": [
    {
     "data": {
      "text/plain": [
       "<matplotlib.axes._subplots.AxesSubplot at 0x11a2ae860>"
      ]
     },
     "execution_count": 37,
     "metadata": {},
     "output_type": "execute_result"
    },
    {
     "data": {
      "image/png": "[encoded data removed]",
      "text/plain": [
       "<matplotlib.figure.Figure at 0x11a37a2b0>"
      ]
     },
     "metadata": {},
     "output_type": "display_data"
    }
   ],
   "source": [
    "df1['type_x'].value_counts().plot(kind='pie',autopct='%.1f%%',title='不同持卡类型占比')"
   ]
  },
  {
   "cell_type": "code",
   "execution_count": 46,
   "metadata": {
    "collapsed": false
   },
   "outputs": [
    {
     "data": {
      "text/plain": [
       "<matplotlib.axes._subplots.AxesSubplot at 0x11a5beda0>"
      ]
     },
     "execution_count": 46,
     "metadata": {},
     "output_type": "execute_result"
    },
    {
     "data": {
      "image/png": "[encoded data removed]",
      "text/plain": [
       "<matplotlib.figure.Figure at 0x11a008ef0>"
      ]
     },
     "metadata": {},
     "output_type": "display_data"
    }
   ],
   "source": [
    "df1.groupby('issued_year').apply(lambda x:x.type_x.value_counts()).unstack().plot(kind='bar')"
   ]
  },
  {
   "cell_type": "code",
   "execution_count": 72,
   "metadata": {
    "collapsed": false
   },
   "outputs": [
    {
     "data": {
      "text/plain": [
       "<matplotlib.text.Text at 0x11bb600f0>"
      ]
     },
     "execution_count": 72,
     "metadata": {},
     "output_type": "execute_result"
    },
    {
     "data": {
      "image/png": "[encoded data removed]",
      "text/plain": [
       "<matplotlib.figure.Figure at 0x119edfd30>"
      ]
     },
     "metadata": {},
     "output_type": "display_data"
    }
   ],
   "source": [
    "crosstab_typeyear=pd.crosstab(df1.issued_year,df1.type_x)\n",
    "crosstab_typeyear.apply(lambda x:x/x.sum(),axis=1).plot(kind='bar',stacked=True,figsize=(12,4))\n",
    "plt.title('不同类型卡占比趋势')"
   ]
  },
  {
   "cell_type": "code",
   "execution_count": 63,
   "metadata": {
    "collapsed": false
   },
   "outputs": [],
   "source": [
    "#df1.groupby('issued_year').apply(lambda x:x.type_x.value_counts()/x.type_x.count()).\\\n",
    "#unstack().plot(kind='bar',stacked=True,figsize=(12,4))"
   ]
  },
  {
   "cell_type": "code",
   "execution_count": 83,
   "metadata": {
    "collapsed": false
   },
   "outputs": [
    {
     "data": {
      "text/html": [
       "<div>\n",
       "<table border=\"1\" class=\"dataframe\">\n",
       "  <thead>\n",
       "    <tr style=\"text-align: right;\">\n",
       "      <th>type_x</th>\n",
       "      <th>普通卡</th>\n",
       "      <th>金卡</th>\n",
       "      <th>青年卡</th>\n",
       "    </tr>\n",
       "    <tr>\n",
       "      <th>issued_year</th>\n",
       "      <th></th>\n",
       "      <th></th>\n",
       "      <th></th>\n",
       "    </tr>\n",
       "  </thead>\n",
       "  <tbody>\n",
       "    <tr>\n",
       "      <th>1993</th>\n",
       "      <td>1</td>\n",
       "      <td>0</td>\n",
       "      <td>0</td>\n",
       "    </tr>\n",
       "    <tr>\n",
       "      <th>1994</th>\n",
       "      <td>17</td>\n",
       "      <td>0</td>\n",
       "      <td>4</td>\n",
       "    </tr>\n",
       "    <tr>\n",
       "      <th>1995</th>\n",
       "      <td>42</td>\n",
       "      <td>4</td>\n",
       "      <td>17</td>\n",
       "    </tr>\n",
       "    <tr>\n",
       "      <th>1996</th>\n",
       "      <td>83</td>\n",
       "      <td>5</td>\n",
       "      <td>28</td>\n",
       "    </tr>\n",
       "    <tr>\n",
       "      <th>1997</th>\n",
       "      <td>190</td>\n",
       "      <td>26</td>\n",
       "      <td>26</td>\n",
       "    </tr>\n",
       "    <tr>\n",
       "      <th>1998</th>\n",
       "      <td>326</td>\n",
       "      <td>53</td>\n",
       "      <td>70</td>\n",
       "    </tr>\n",
       "  </tbody>\n",
       "</table>\n",
       "</div>"
      ],
      "text/plain": [
       "type_x       普通卡  金卡  青年卡\n",
       "issued_year              \n",
       "1993           1   0    0\n",
       "1994          17   0    4\n",
       "1995          42   4   17\n",
       "1996          83   5   28\n",
       "1997         190  26   26\n",
       "1998         326  53   70"
      ]
     },
     "execution_count": 83,
     "metadata": {},
     "output_type": "execute_result"
    }
   ],
   "source": [
    "crosstab_typeyear"
   ]
  },
  {
   "cell_type": "code",
   "execution_count": 79,
   "metadata": {
    "collapsed": false
   },
   "outputs": [
    {
     "data": {
      "text/plain": [
       "array(['普通卡', '金卡', '青年卡'], dtype=object)"
      ]
     },
     "execution_count": 79,
     "metadata": {},
     "output_type": "execute_result"
    }
   ],
   "source": [
    "crosstab_typeyear.columns.values"
   ]
  },
  {
   "cell_type": "code",
   "execution_count": 91,
   "metadata": {
    "collapsed": false
   },
   "outputs": [],
   "source": [
    "#crosstab_typeyear.plot.area()"
   ]
  },
  {
   "cell_type": "code",
   "execution_count": 90,
   "metadata": {
    "collapsed": false
   },
   "outputs": [
    {
     "data": {
      "text/plain": [
       "<matplotlib.text.Text at 0x11c655710>"
      ]
     },
     "execution_count": 90,
     "metadata": {},
     "output_type": "execute_result"
    },
    {
     "data": {
      "image/png": "[encoded data removed]",
      "text/plain": [
       "<matplotlib.figure.Figure at 0x11c986390>"
      ]
     },
     "metadata": {},
     "output_type": "display_data"
    }
   ],
   "source": [
    "plt.stackplot(crosstab_typeyear.index,crosstab_typeyear.青年卡,crosstab_typeyear.普通卡,crosstab_typeyear.金卡,\n",
    "             labels=crosstab_typeyear.columns.values)\n",
    "plt.legend(loc='upper left')\n",
    "plt.title('发卡量趋势')"
   ]
  },
  {
   "cell_type": "code",
   "execution_count": null,
   "metadata": {
    "collapsed": true
   },
   "outputs": [],
   "source": []
  },
  {
   "cell_type": "markdown",
   "metadata": {},
   "source": [
    "## 1. 不同类型卡的持卡人的性别对比"
   ]
  },
  {
   "cell_type": "code",
   "execution_count": 50,
   "metadata": {
    "collapsed": false
   },
   "outputs": [
    {
     "data": {
      "text/html": [
       "<div>\n",
       "<table border=\"1\" class=\"dataframe\">\n",
       "  <thead>\n",
       "    <tr style=\"text-align: right;\">\n",
       "      <th>sex</th>\n",
       "      <th>女</th>\n",
       "      <th>男</th>\n",
       "    </tr>\n",
       "    <tr>\n",
       "      <th>type_x</th>\n",
       "      <th></th>\n",
       "      <th></th>\n",
       "    </tr>\n",
       "  </thead>\n",
       "  <tbody>\n",
       "    <tr>\n",
       "      <th>普通卡</th>\n",
       "      <td>317</td>\n",
       "      <td>342</td>\n",
       "    </tr>\n",
       "    <tr>\n",
       "      <th>金卡</th>\n",
       "      <td>35</td>\n",
       "      <td>53</td>\n",
       "    </tr>\n",
       "    <tr>\n",
       "      <th>青年卡</th>\n",
       "      <td>71</td>\n",
       "      <td>74</td>\n",
       "    </tr>\n",
       "  </tbody>\n",
       "</table>\n",
       "</div>"
      ],
      "text/plain": [
       "sex       女    男\n",
       "type_x          \n",
       "普通卡     317  342\n",
       "金卡       35   53\n",
       "青年卡      71   74"
      ]
     },
     "execution_count": 50,
     "metadata": {},
     "output_type": "execute_result"
    }
   ],
   "source": [
    "pd.crosstab(df1.type_x,df1.sex)"
   ]
  },
  {
   "cell_type": "code",
   "execution_count": 51,
   "metadata": {
    "collapsed": false
   },
   "outputs": [
    {
     "data": {
      "text/html": [
       "<div>\n",
       "<table border=\"1\" class=\"dataframe\">\n",
       "  <thead>\n",
       "    <tr style=\"text-align: right;\">\n",
       "      <th>sex</th>\n",
       "      <th>女</th>\n",
       "      <th>男</th>\n",
       "    </tr>\n",
       "    <tr>\n",
       "      <th>type_x</th>\n",
       "      <th></th>\n",
       "      <th></th>\n",
       "    </tr>\n",
       "  </thead>\n",
       "  <tbody>\n",
       "    <tr>\n",
       "      <th>普通卡</th>\n",
       "      <td>0.481032</td>\n",
       "      <td>0.518968</td>\n",
       "    </tr>\n",
       "    <tr>\n",
       "      <th>金卡</th>\n",
       "      <td>0.397727</td>\n",
       "      <td>0.602273</td>\n",
       "    </tr>\n",
       "    <tr>\n",
       "      <th>青年卡</th>\n",
       "      <td>0.489655</td>\n",
       "      <td>0.510345</td>\n",
       "    </tr>\n",
       "  </tbody>\n",
       "</table>\n",
       "</div>"
      ],
      "text/plain": [
       "sex            女         男\n",
       "type_x                    \n",
       "普通卡     0.481032  0.518968\n",
       "金卡      0.397727  0.602273\n",
       "青年卡     0.489655  0.510345"
      ]
     },
     "execution_count": 51,
     "metadata": {},
     "output_type": "execute_result"
    }
   ],
   "source": [
    "pd.crosstab(df1.type_x,df1.sex).apply(lambda x:x/x.sum(),axis=1)"
   ]
  },
  {
   "cell_type": "code",
   "execution_count": 52,
   "metadata": {
    "collapsed": false
   },
   "outputs": [
    {
     "data": {
      "text/plain": [
       "<matplotlib.axes._subplots.AxesSubplot at 0x10c49c8d0>"
      ]
     },
     "execution_count": 52,
     "metadata": {},
     "output_type": "execute_result"
    },
    {
     "data": {
      "image/png": "[encoded data removed]",
      "text/plain": [
       "<matplotlib.figure.Figure at 0x118588978>"
      ]
     },
     "metadata": {},
     "output_type": "display_data"
    }
   ],
   "source": [
    "pd.crosstab(df1.type_x,df1.sex).apply(lambda x:x/x.sum(),axis=1).plot.bar(stacked=True,figsize=(12,4))"
   ]
  },
  {
   "cell_type": "markdown",
   "metadata": {},
   "source": [
    "金卡的男性占比明显更高"
   ]
  },
  {
   "cell_type": "markdown",
   "metadata": {},
   "source": [
    "## 2.不同类型卡的持卡人在办卡时的平均年龄对比"
   ]
  },
  {
   "cell_type": "code",
   "execution_count": 53,
   "metadata": {
    "collapsed": false
   },
   "outputs": [],
   "source": [
    "df1['begin_age']=(df1['issued']-df1['birth_date'])/np.timedelta64(1,'Y')"
   ]
  },
  {
   "cell_type": "code",
   "execution_count": 54,
   "metadata": {
    "collapsed": false
   },
   "outputs": [
    {
     "data": {
      "text/plain": [
       "<matplotlib.axes._subplots.AxesSubplot at 0x11fc0ec50>"
      ]
     },
     "execution_count": 54,
     "metadata": {},
     "output_type": "execute_result"
    },
    {
     "data": {
      "image/png": "[encoded data removed]",
      "text/plain": [
       "<matplotlib.figure.Figure at 0x120c08b00>"
      ]
     },
     "metadata": {},
     "output_type": "display_data"
    }
   ],
   "source": [
    "df1.groupby('type_x').begin_age.mean().plot.bar()"
   ]
  },
  {
   "cell_type": "markdown",
   "metadata": {
    "collapsed": true
   },
   "source": [
    "办金卡的平均年龄最高，其次是普通卡，然后是青年卡"
   ]
  },
  {
   "cell_type": "markdown",
   "metadata": {
    "collapsed": true
   },
   "source": [
    "# 3. 不同类型卡的持卡人在办卡前一年内的平均帐户余额对比"
   ]
  },
  {
   "cell_type": "code",
   "execution_count": 92,
   "metadata": {
    "collapsed": false
   },
   "outputs": [
    {
     "name": "stderr",
     "output_type": "stream",
     "text": [
      "/Users/xucoolboy/anaconda/lib/python3.6/site-packages/IPython/core/interactiveshell.py:2717: DtypeWarning: Columns (8) have mixed types. Specify dtype option on import or set low_memory=False.\n",
      "  interactivity=interactivity, compiler=compiler, result=result)\n"
     ]
    }
   ],
   "source": [
    "trans=pd.read_csv('trans.csv',encoding='gbk')"
   ]
  },
  {
   "cell_type": "code",
   "execution_count": 106,
   "metadata": {
    "collapsed": false
   },
   "outputs": [
    {
     "name": "stdout",
     "output_type": "stream",
     "text": [
      "<class 'pandas.core.frame.DataFrame'>\n",
      "RangeIndex: 1056320 entries, 0 to 1056319\n",
      "Data columns (total 10 columns):\n",
      "trans_id      1056320 non-null int64\n",
      "account_id    1056320 non-null int64\n",
      "date          1056320 non-null object\n",
      "type          1056320 non-null object\n",
      "operation     873206 non-null object\n",
      "amount        1056320 non-null object\n",
      "balance       1056320 non-null object\n",
      "k_symbol      521006 non-null object\n",
      "bank          273508 non-null object\n",
      "account       295389 non-null float64\n",
      "dtypes: float64(1), int64(2), object(7)\n",
      "memory usage: 80.6+ MB\n"
     ]
    }
   ],
   "source": [
    "trans.info()"
   ]
  },
  {
   "cell_type": "code",
   "execution_count": 58,
   "metadata": {
    "collapsed": false
   },
   "outputs": [
    {
     "data": {
      "text/plain": [
       "利息所得    184691\n",
       "支票      155832\n",
       "房屋贷款    118065\n",
       "养老金      30338\n",
       "保险费      18500\n",
       "支付贷款     13580\n",
       "Name: k_symbol, dtype: int64"
      ]
     },
     "execution_count": 58,
     "metadata": {},
     "output_type": "execute_result"
    }
   ],
   "source": [
    "trans.k_symbol.value_counts()"
   ]
  },
  {
   "cell_type": "code",
   "execution_count": 93,
   "metadata": {
    "collapsed": false
   },
   "outputs": [],
   "source": [
    "df1=df1.merge(trans,on='account_id',how='left')"
   ]
  },
  {
   "cell_type": "code",
   "execution_count": 60,
   "metadata": {
    "collapsed": false
   },
   "outputs": [
    {
     "data": {
      "text/plain": [
       "(221938, 20)"
      ]
     },
     "execution_count": 60,
     "metadata": {},
     "output_type": "execute_result"
    }
   ],
   "source": [
    "df1.shape"
   ]
  },
  {
   "cell_type": "code",
   "execution_count": 61,
   "metadata": {
    "collapsed": false
   },
   "outputs": [
    {
     "data": {
      "text/html": [
       "<div>\n",
       "<table border=\"1\" class=\"dataframe\">\n",
       "  <thead>\n",
       "    <tr style=\"text-align: right;\">\n",
       "      <th></th>\n",
       "      <th>card_id</th>\n",
       "      <th>disp_id</th>\n",
       "      <th>issued</th>\n",
       "      <th>type_x</th>\n",
       "      <th>client_id</th>\n",
       "      <th>account_id</th>\n",
       "      <th>type_y</th>\n",
       "      <th>sex</th>\n",
       "      <th>birth_date</th>\n",
       "      <th>district_id</th>\n",
       "      <th>begin_age</th>\n",
       "      <th>trans_id</th>\n",
       "      <th>date</th>\n",
       "      <th>type</th>\n",
       "      <th>operation</th>\n",
       "      <th>amount</th>\n",
       "      <th>balance</th>\n",
       "      <th>k_symbol</th>\n",
       "      <th>bank</th>\n",
       "      <th>account</th>\n",
       "    </tr>\n",
       "  </thead>\n",
       "  <tbody>\n",
       "    <tr>\n",
       "      <th>0</th>\n",
       "      <td>1005</td>\n",
       "      <td>9285</td>\n",
       "      <td>1993-11-07</td>\n",
       "      <td>普通卡</td>\n",
       "      <td>9593</td>\n",
       "      <td>7753</td>\n",
       "      <td>所有者</td>\n",
       "      <td>女</td>\n",
       "      <td>1968-01-28</td>\n",
       "      <td>74</td>\n",
       "      <td>25.777394</td>\n",
       "      <td>2349697</td>\n",
       "      <td>1993-02-08</td>\n",
       "      <td>贷</td>\n",
       "      <td>信贷资金</td>\n",
       "      <td>$600</td>\n",
       "      <td>$600</td>\n",
       "      <td>NaN</td>\n",
       "      <td>NaN</td>\n",
       "      <td>NaN</td>\n",
       "    </tr>\n",
       "    <tr>\n",
       "      <th>1</th>\n",
       "      <td>1005</td>\n",
       "      <td>9285</td>\n",
       "      <td>1993-11-07</td>\n",
       "      <td>普通卡</td>\n",
       "      <td>9593</td>\n",
       "      <td>7753</td>\n",
       "      <td>所有者</td>\n",
       "      <td>女</td>\n",
       "      <td>1968-01-28</td>\n",
       "      <td>74</td>\n",
       "      <td>25.777394</td>\n",
       "      <td>2349709</td>\n",
       "      <td>1993-02-12</td>\n",
       "      <td>贷</td>\n",
       "      <td>信贷资金</td>\n",
       "      <td>$19588</td>\n",
       "      <td>$20188</td>\n",
       "      <td>NaN</td>\n",
       "      <td>NaN</td>\n",
       "      <td>NaN</td>\n",
       "    </tr>\n",
       "    <tr>\n",
       "      <th>2</th>\n",
       "      <td>1005</td>\n",
       "      <td>9285</td>\n",
       "      <td>1993-11-07</td>\n",
       "      <td>普通卡</td>\n",
       "      <td>9593</td>\n",
       "      <td>7753</td>\n",
       "      <td>所有者</td>\n",
       "      <td>女</td>\n",
       "      <td>1968-01-28</td>\n",
       "      <td>74</td>\n",
       "      <td>25.777394</td>\n",
       "      <td>2349705</td>\n",
       "      <td>1993-02-12</td>\n",
       "      <td>贷</td>\n",
       "      <td>信贷资金</td>\n",
       "      <td>$27078</td>\n",
       "      <td>$47266</td>\n",
       "      <td>NaN</td>\n",
       "      <td>NaN</td>\n",
       "      <td>NaN</td>\n",
       "    </tr>\n",
       "    <tr>\n",
       "      <th>3</th>\n",
       "      <td>1005</td>\n",
       "      <td>9285</td>\n",
       "      <td>1993-11-07</td>\n",
       "      <td>普通卡</td>\n",
       "      <td>9593</td>\n",
       "      <td>7753</td>\n",
       "      <td>所有者</td>\n",
       "      <td>女</td>\n",
       "      <td>1968-01-28</td>\n",
       "      <td>74</td>\n",
       "      <td>25.777394</td>\n",
       "      <td>3492040</td>\n",
       "      <td>1993-02-28</td>\n",
       "      <td>贷</td>\n",
       "      <td>NaN</td>\n",
       "      <td>$120</td>\n",
       "      <td>$47386</td>\n",
       "      <td>利息所得</td>\n",
       "      <td>NaN</td>\n",
       "      <td>NaN</td>\n",
       "    </tr>\n",
       "    <tr>\n",
       "      <th>4</th>\n",
       "      <td>1005</td>\n",
       "      <td>9285</td>\n",
       "      <td>1993-11-07</td>\n",
       "      <td>普通卡</td>\n",
       "      <td>9593</td>\n",
       "      <td>7753</td>\n",
       "      <td>所有者</td>\n",
       "      <td>女</td>\n",
       "      <td>1968-01-28</td>\n",
       "      <td>74</td>\n",
       "      <td>25.777394</td>\n",
       "      <td>2350078</td>\n",
       "      <td>1993-03-10</td>\n",
       "      <td>借</td>\n",
       "      <td>现金</td>\n",
       "      <td>$12000</td>\n",
       "      <td>$35386</td>\n",
       "      <td>NaN</td>\n",
       "      <td>NaN</td>\n",
       "      <td>NaN</td>\n",
       "    </tr>\n",
       "  </tbody>\n",
       "</table>\n",
       "</div>"
      ],
      "text/plain": [
       "   card_id  disp_id     issued type_x  client_id  account_id type_y sex  \\\n",
       "0     1005     9285 1993-11-07    普通卡       9593        7753    所有者   女   \n",
       "1     1005     9285 1993-11-07    普通卡       9593        7753    所有者   女   \n",
       "2     1005     9285 1993-11-07    普通卡       9593        7753    所有者   女   \n",
       "3     1005     9285 1993-11-07    普通卡       9593        7753    所有者   女   \n",
       "4     1005     9285 1993-11-07    普通卡       9593        7753    所有者   女   \n",
       "\n",
       "  birth_date  district_id  begin_age  trans_id        date type operation  \\\n",
       "0 1968-01-28           74  25.777394   2349697  1993-02-08    贷      信贷资金   \n",
       "1 1968-01-28           74  25.777394   2349709  1993-02-12    贷      信贷资金   \n",
       "2 1968-01-28           74  25.777394   2349705  1993-02-12    贷      信贷资金   \n",
       "3 1968-01-28           74  25.777394   3492040  1993-02-28    贷       NaN   \n",
       "4 1968-01-28           74  25.777394   2350078  1993-03-10    借        现金   \n",
       "\n",
       "   amount balance k_symbol bank  account  \n",
       "0    $600    $600      NaN  NaN      NaN  \n",
       "1  $19588  $20188      NaN  NaN      NaN  \n",
       "2  $27078  $47266      NaN  NaN      NaN  \n",
       "3    $120  $47386     利息所得  NaN      NaN  \n",
       "4  $12000  $35386      NaN  NaN      NaN  "
      ]
     },
     "execution_count": 61,
     "metadata": {},
     "output_type": "execute_result"
    }
   ],
   "source": [
    "df1.head()"
   ]
  },
  {
   "cell_type": "code",
   "execution_count": 94,
   "metadata": {
    "collapsed": false
   },
   "outputs": [],
   "source": [
    "df1['amount']=df1.amount.str.replace('[$,]','').astype('int')\n",
    "df1['balance']=df1.balance.str.replace('[$,]','').astype('int')"
   ]
  },
  {
   "cell_type": "code",
   "execution_count": 95,
   "metadata": {
    "collapsed": false
   },
   "outputs": [],
   "source": [
    "df1['date']=pd.to_datetime(df1['date'])"
   ]
  },
  {
   "cell_type": "code",
   "execution_count": 96,
   "metadata": {
    "collapsed": false
   },
   "outputs": [
    {
     "data": {
      "text/html": [
       "<div>\n",
       "<table border=\"1\" class=\"dataframe\">\n",
       "  <thead>\n",
       "    <tr style=\"text-align: right;\">\n",
       "      <th></th>\n",
       "      <th>card_id</th>\n",
       "      <th>disp_id</th>\n",
       "      <th>issued</th>\n",
       "      <th>type_x</th>\n",
       "      <th>client_id</th>\n",
       "      <th>account_id</th>\n",
       "      <th>type_y</th>\n",
       "      <th>sex</th>\n",
       "      <th>birth_date</th>\n",
       "      <th>district_id</th>\n",
       "      <th>issued_year</th>\n",
       "      <th>trans_id</th>\n",
       "      <th>date</th>\n",
       "      <th>type</th>\n",
       "      <th>operation</th>\n",
       "      <th>amount</th>\n",
       "      <th>balance</th>\n",
       "      <th>k_symbol</th>\n",
       "      <th>bank</th>\n",
       "      <th>account</th>\n",
       "    </tr>\n",
       "  </thead>\n",
       "  <tbody>\n",
       "    <tr>\n",
       "      <th>0</th>\n",
       "      <td>1005</td>\n",
       "      <td>9285</td>\n",
       "      <td>1993-11-07</td>\n",
       "      <td>普通卡</td>\n",
       "      <td>9593</td>\n",
       "      <td>7753</td>\n",
       "      <td>所有者</td>\n",
       "      <td>女</td>\n",
       "      <td>1968-01-28</td>\n",
       "      <td>74</td>\n",
       "      <td>1993</td>\n",
       "      <td>2349697</td>\n",
       "      <td>1993-02-08</td>\n",
       "      <td>贷</td>\n",
       "      <td>信贷资金</td>\n",
       "      <td>600</td>\n",
       "      <td>600</td>\n",
       "      <td>NaN</td>\n",
       "      <td>NaN</td>\n",
       "      <td>NaN</td>\n",
       "    </tr>\n",
       "    <tr>\n",
       "      <th>1</th>\n",
       "      <td>1005</td>\n",
       "      <td>9285</td>\n",
       "      <td>1993-11-07</td>\n",
       "      <td>普通卡</td>\n",
       "      <td>9593</td>\n",
       "      <td>7753</td>\n",
       "      <td>所有者</td>\n",
       "      <td>女</td>\n",
       "      <td>1968-01-28</td>\n",
       "      <td>74</td>\n",
       "      <td>1993</td>\n",
       "      <td>2349709</td>\n",
       "      <td>1993-02-12</td>\n",
       "      <td>贷</td>\n",
       "      <td>信贷资金</td>\n",
       "      <td>19588</td>\n",
       "      <td>20188</td>\n",
       "      <td>NaN</td>\n",
       "      <td>NaN</td>\n",
       "      <td>NaN</td>\n",
       "    </tr>\n",
       "    <tr>\n",
       "      <th>2</th>\n",
       "      <td>1005</td>\n",
       "      <td>9285</td>\n",
       "      <td>1993-11-07</td>\n",
       "      <td>普通卡</td>\n",
       "      <td>9593</td>\n",
       "      <td>7753</td>\n",
       "      <td>所有者</td>\n",
       "      <td>女</td>\n",
       "      <td>1968-01-28</td>\n",
       "      <td>74</td>\n",
       "      <td>1993</td>\n",
       "      <td>2349705</td>\n",
       "      <td>1993-02-12</td>\n",
       "      <td>贷</td>\n",
       "      <td>信贷资金</td>\n",
       "      <td>27078</td>\n",
       "      <td>47266</td>\n",
       "      <td>NaN</td>\n",
       "      <td>NaN</td>\n",
       "      <td>NaN</td>\n",
       "    </tr>\n",
       "    <tr>\n",
       "      <th>3</th>\n",
       "      <td>1005</td>\n",
       "      <td>9285</td>\n",
       "      <td>1993-11-07</td>\n",
       "      <td>普通卡</td>\n",
       "      <td>9593</td>\n",
       "      <td>7753</td>\n",
       "      <td>所有者</td>\n",
       "      <td>女</td>\n",
       "      <td>1968-01-28</td>\n",
       "      <td>74</td>\n",
       "      <td>1993</td>\n",
       "      <td>3492040</td>\n",
       "      <td>1993-02-28</td>\n",
       "      <td>贷</td>\n",
       "      <td>NaN</td>\n",
       "      <td>120</td>\n",
       "      <td>47386</td>\n",
       "      <td>利息所得</td>\n",
       "      <td>NaN</td>\n",
       "      <td>NaN</td>\n",
       "    </tr>\n",
       "    <tr>\n",
       "      <th>4</th>\n",
       "      <td>1005</td>\n",
       "      <td>9285</td>\n",
       "      <td>1993-11-07</td>\n",
       "      <td>普通卡</td>\n",
       "      <td>9593</td>\n",
       "      <td>7753</td>\n",
       "      <td>所有者</td>\n",
       "      <td>女</td>\n",
       "      <td>1968-01-28</td>\n",
       "      <td>74</td>\n",
       "      <td>1993</td>\n",
       "      <td>2350078</td>\n",
       "      <td>1993-03-10</td>\n",
       "      <td>借</td>\n",
       "      <td>现金</td>\n",
       "      <td>12000</td>\n",
       "      <td>35386</td>\n",
       "      <td>NaN</td>\n",
       "      <td>NaN</td>\n",
       "      <td>NaN</td>\n",
       "    </tr>\n",
       "  </tbody>\n",
       "</table>\n",
       "</div>"
      ],
      "text/plain": [
       "   card_id  disp_id     issued type_x  client_id  account_id type_y sex  \\\n",
       "0     1005     9285 1993-11-07    普通卡       9593        7753    所有者   女   \n",
       "1     1005     9285 1993-11-07    普通卡       9593        7753    所有者   女   \n",
       "2     1005     9285 1993-11-07    普通卡       9593        7753    所有者   女   \n",
       "3     1005     9285 1993-11-07    普通卡       9593        7753    所有者   女   \n",
       "4     1005     9285 1993-11-07    普通卡       9593        7753    所有者   女   \n",
       "\n",
       "  birth_date  district_id  issued_year  trans_id       date type operation  \\\n",
       "0 1968-01-28           74         1993   2349697 1993-02-08    贷      信贷资金   \n",
       "1 1968-01-28           74         1993   2349709 1993-02-12    贷      信贷资金   \n",
       "2 1968-01-28           74         1993   2349705 1993-02-12    贷      信贷资金   \n",
       "3 1968-01-28           74         1993   3492040 1993-02-28    贷       NaN   \n",
       "4 1968-01-28           74         1993   2350078 1993-03-10    借        现金   \n",
       "\n",
       "   amount  balance k_symbol bank  account  \n",
       "0     600      600      NaN  NaN      NaN  \n",
       "1   19588    20188      NaN  NaN      NaN  \n",
       "2   27078    47266      NaN  NaN      NaN  \n",
       "3     120    47386     利息所得  NaN      NaN  \n",
       "4   12000    35386      NaN  NaN      NaN  "
      ]
     },
     "execution_count": 96,
     "metadata": {},
     "output_type": "execute_result"
    }
   ],
   "source": [
    "df1.head()"
   ]
  },
  {
   "cell_type": "code",
   "execution_count": 114,
   "metadata": {
    "collapsed": false
   },
   "outputs": [
    {
     "name": "stdout",
     "output_type": "stream",
     "text": [
      "<class 'pandas.core.frame.DataFrame'>\n",
      "Int64Index: 221938 entries, 0 to 221937\n",
      "Data columns (total 20 columns):\n",
      "card_id        221938 non-null int64\n",
      "disp_id        221938 non-null int64\n",
      "issued         221938 non-null datetime64[ns]\n",
      "type_x         221938 non-null object\n",
      "client_id      221938 non-null int64\n",
      "account_id     221938 non-null int64\n",
      "type_y         221938 non-null object\n",
      "sex            221938 non-null object\n",
      "birth_date     221938 non-null datetime64[ns]\n",
      "district_id    221938 non-null int64\n",
      "begin_age      221938 non-null float64\n",
      "trans_id       221938 non-null int64\n",
      "date           221938 non-null datetime64[ns]\n",
      "type           221938 non-null object\n",
      "operation      184845 non-null object\n",
      "amount         221938 non-null int64\n",
      "balance        221938 non-null int64\n",
      "k_symbol       97509 non-null object\n",
      "bank           45855 non-null object\n",
      "account        56768 non-null float64\n",
      "dtypes: datetime64[ns](3), float64(2), int64(8), object(7)\n",
      "memory usage: 35.6+ MB\n"
     ]
    }
   ],
   "source": [
    "df1.info()"
   ]
  },
  {
   "cell_type": "code",
   "execution_count": 103,
   "metadata": {
    "collapsed": false
   },
   "outputs": [],
   "source": [
    "df2=df1[(df1.issued>df1.date)&((df1.issued-df1.date)<np.timedelta64(365,'D'))].\\\n",
    "groupby(['type_x','card_id']).balance.agg('mean').reset_index()"
   ]
  },
  {
   "cell_type": "code",
   "execution_count": 104,
   "metadata": {
    "collapsed": false
   },
   "outputs": [
    {
     "data": {
      "text/plain": [
       "<matplotlib.axes._subplots.AxesSubplot at 0x11d738860>"
      ]
     },
     "execution_count": 104,
     "metadata": {},
     "output_type": "execute_result"
    },
    {
     "data": {
      "image/png": "[encoded data removed]",
      "text/plain": [
       "<matplotlib.figure.Figure at 0x11d47a320>"
      ]
     },
     "metadata": {},
     "output_type": "display_data"
    }
   ],
   "source": [
    "sns.boxplot(x='type_x',y='balance',data=df2)"
   ]
  },
  {
   "cell_type": "markdown",
   "metadata": {},
   "source": [
    "## 4、不同类型卡的持卡人在办卡前一年内的平均收入对比"
   ]
  },
  {
   "cell_type": "code",
   "execution_count": 107,
   "metadata": {
    "collapsed": true
   },
   "outputs": [],
   "source": [
    "df3=df1[(df1.issued>df1.date)&((df1.issued-df1.date)<np.timedelta64(365,'D'))].groupby(['type_x','card_id','type']).\\\n",
    "amount.agg('sum').reset_index()"
   ]
  },
  {
   "cell_type": "code",
   "execution_count": 108,
   "metadata": {
    "collapsed": false
   },
   "outputs": [
    {
     "data": {
      "text/plain": [
       "<matplotlib.text.Text at 0x11cf24240>"
      ]
     },
     "execution_count": 108,
     "metadata": {},
     "output_type": "execute_result"
    },
    {
     "data": {
      "image/png": "[encoded data removed]",
      "text/plain": [
       "<matplotlib.figure.Figure at 0x11d4d27b8>"
      ]
     },
     "metadata": {},
     "output_type": "display_data"
    }
   ],
   "source": [
    "sns.boxplot(x='type_x',y='amount',data=df3.query(\"(type=='贷')&(amount<1500000)\"))\n",
    "plt.title('不同类型卡收入情况')"
   ]
  },
  {
   "cell_type": "markdown",
   "metadata": {},
   "source": [
    "## 5、不同类型卡的持卡人在办卡前一年内的支出对比"
   ]
  },
  {
   "cell_type": "code",
   "execution_count": 109,
   "metadata": {
    "collapsed": false
   },
   "outputs": [
    {
     "data": {
      "text/plain": [
       "<matplotlib.text.Text at 0x11d5bdc88>"
      ]
     },
     "execution_count": 109,
     "metadata": {},
     "output_type": "execute_result"
    },
    {
     "data": {
      "image/png": "[encoded data removed]",
      "text/plain": [
       "<matplotlib.figure.Figure at 0x11cf1e390>"
      ]
     },
     "metadata": {},
     "output_type": "display_data"
    }
   ],
   "source": [
    "sns.boxplot(x='type_x',y='amount',data=df3.query(\"(type=='借')&(amount<1400000)\"))\n",
    "plt.title('不同类型卡支出情况')"
   ]
  },
  {
   "cell_type": "code",
   "execution_count": null,
   "metadata": {
    "collapsed": true
   },
   "outputs": [],
   "source": []
  }
 ],
 "metadata": {
  "kernelspec": {
   "display_name": "Python 3",
   "language": "python",
   "name": "python3"
  },
  "language_info": {
   "codemirror_mode": {
    "name": "ipython",
    "version": 3
   },
   "file_extension": ".py",
   "mimetype": "text/x-python",
   "name": "python",
   "nbconvert_exporter": "python",
   "pygments_lexer": "ipython3",
   "version": "3.6.0"
  }
 },
 "nbformat": 4,
 "nbformat_minor": 2
}
